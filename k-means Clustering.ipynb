{
 "cells": [
  {
   "cell_type": "markdown",
   "metadata": {},
   "source": [
    "# K-means clustering for data embedded in $\\mathbb{R}^2$"
   ]
  },
  {
   "cell_type": "code",
   "execution_count": 529,
   "metadata": {
    "collapsed": true
   },
   "outputs": [],
   "source": [
    "import numpy as np\n",
    "from matplotlib import pyplot as plt"
   ]
  },
  {
   "cell_type": "markdown",
   "metadata": {},
   "source": [
    "'Roughly' generates two clusters, one in the bottom left and one in the top right. The parameter $N$ controls how much overlap there is between the two clusters. Higher $N \\Rightarrow$ less overlap."
   ]
  },
  {
   "cell_type": "code",
   "execution_count": 536,
   "metadata": {
    "collapsed": true
   },
   "outputs": [],
   "source": [
    "N = 6\n",
    "n = 20"
   ]
  },
  {
   "cell_type": "code",
   "execution_count": 537,
   "metadata": {},
   "outputs": [],
   "source": [
    "cluster1 = np.array([[np.random.random(), np.random.random()] for _ in range(n)])\n",
    "cluster2 = np.array([[(1-N*np.random.random())/N, (1-N*np.random.random())/N] for _ in range(n)])"
   ]
  },
  {
   "cell_type": "code",
   "execution_count": 538,
   "metadata": {},
   "outputs": [
    {
     "data": {
      "image/png": "[encoded data removed]",
      "text/plain": [
       "<matplotlib.figure.Figure at 0x18a516f7400>"
      ]
     },
     "metadata": {},
     "output_type": "display_data"
    }
   ],
   "source": [
    "plt.scatter(cluster1[:,0], cluster1[:,1])\n",
    "plt.scatter(cluster2[:,0], cluster2[:,1])\n",
    "plt.show()"
   ]
  },
  {
   "cell_type": "markdown",
   "metadata": {},
   "source": [
    "The above scatterplot shows the clusters we aim to recover using $k$-means clustering. Now we implement the algorithm with $k=2$. (I could modify this later to accept more clusters.)"
   ]
  },
  {
   "cell_type": "code",
   "execution_count": 539,
   "metadata": {},
   "outputs": [],
   "source": [
    "k = 2"
   ]
  },
  {
   "cell_type": "code",
   "execution_count": 540,
   "metadata": {},
   "outputs": [],
   "source": [
    "#Randomly chosen centroids\n",
    "centroid1 = cluster1[np.random.choice(range(n))]\n",
    "centroid2 = cluster2[np.random.choice(range(n))]"
   ]
  },
  {
   "cell_type": "code",
   "execution_count": 541,
   "metadata": {},
   "outputs": [],
   "source": [
    "#Forget all the clusters and concatenate all data points into one matrix.\n",
    "all_points = np.row_stack((cluster1, cluster2))"
   ]
  },
  {
   "cell_type": "code",
   "execution_count": 542,
   "metadata": {},
   "outputs": [
    {
     "data": {
      "image/png": "[encoded data removed]",
      "text/plain": [
       "<matplotlib.figure.Figure at 0x18a5166ce10>"
      ]
     },
     "metadata": {},
     "output_type": "display_data"
    }
   ],
   "source": [
    "plt.scatter(all_points[:,0], all_points[:,1], color = 'blue')\n",
    "\n",
    "plt.scatter(centroid1[0], centroid1[1], color = 'red')\n",
    "plt.scatter(centroid2[0], centroid2[1], color = 'orange')\n",
    "\n",
    "plt.show()"
   ]
  },
  {
   "cell_type": "markdown",
   "metadata": {},
   "source": [
    "The above scatterplot shows the randomly selected centroids and the rest of the -now unclustered- data points. Next we calculate the distances between the centroids and all other points. Assign each point to the cluster defined by the centroid the point is closest to."
   ]
  },
  {
   "cell_type": "code",
   "execution_count": 543,
   "metadata": {
    "collapsed": true
   },
   "outputs": [],
   "source": [
    "#Euclidian Distance - 2D\n",
    "def distance(p1, p2):\n",
    "    return np.sqrt((p1[0] - p2[0]) ** 2 + (p1[0] - p2[1])**2)"
   ]
  },
  {
   "cell_type": "code",
   "execution_count": 544,
   "metadata": {},
   "outputs": [],
   "source": [
    "#List of tuples (d1, d2) where d, & d2 are the distances to centroid1 & centroid 2 respectively\n",
    "distances = [(distance(centroid1, all_points[n]), distance(centroid2, all_points[n])) for n in range(len(all_points))]"
   ]
  },
  {
   "cell_type": "code",
   "execution_count": 545,
   "metadata": {},
   "outputs": [],
   "source": [
    "guess_cluster_1 = []\n",
    "guess_cluster_2 = []\n",
    "\n",
    "for each_distance in distances:\n",
    "    if (each_distance.index(min(each_distance))) == 0:\n",
    "        guess_cluster_1.append(all_points[distances.index(each_distance)])\n",
    "    else:\n",
    "        guess_cluster_2.append(all_points[distances.index(each_distance)])\n",
    "        \n",
    "guess_cluster_1 = np.asarray(guess_cluster_1)\n",
    "guess_cluster_2 = np.asarray(guess_cluster_2)"
   ]
  },
  {
   "cell_type": "code",
   "execution_count": 546,
   "metadata": {},
   "outputs": [
    {
     "data": {
      "image/png": "[encoded data removed]",
      "text/plain": [
       "<matplotlib.figure.Figure at 0x18a5157b710>"
      ]
     },
     "metadata": {},
     "output_type": "display_data"
    }
   ],
   "source": [
    "plt.scatter(guess_cluster_1[:,0], guess_cluster_1[:,1])\n",
    "plt.scatter(guess_cluster_2[:,0], guess_cluster_2[:,1])\n",
    "plt.show()"
   ]
  },
  {
   "cell_type": "markdown",
   "metadata": {},
   "source": [
    "Now calculate the new centroids of clusters 1 & 2 as the component-wise, arithmetic mean of all elements in clusters 1 & 2 respectively."
   ]
  },
  {
   "cell_type": "code",
   "execution_count": 547,
   "metadata": {},
   "outputs": [],
   "source": [
    "centroid1 = [sum(guess_cluster_1[:,0])/len(guess_cluster_1[:,0]), sum(guess_cluster_1[:,1])/len(guess_cluster_1[:,1])]\n",
    "centroid2 = [sum(guess_cluster_2[:,0])/len(guess_cluster_2[:,0]), sum(guess_cluster_2[:,1])/len(guess_cluster_2[:,1])]"
   ]
  },
  {
   "cell_type": "markdown",
   "metadata": {},
   "source": [
    "Repeat the process until clusters remain stable."
   ]
  },
  {
   "cell_type": "code",
   "execution_count": 548,
   "metadata": {
    "collapsed": true
   },
   "outputs": [],
   "source": [
    "def iterate(cluster1_current_estimate, cluster2_current_estimate):\n",
    "    #Calculate new centroids\n",
    "    centroid1 = [sum(cluster1_current_estimate[:,0])/len(cluster1_current_estimate[:,0]), sum(cluster1_current_estimate[:,1])/len(cluster1_current_estimate[:,1])]\n",
    "    centroid2 = [sum(cluster2_current_estimate[:,0])/len(cluster2_current_estimate[:,0]), sum(cluster2_current_estimate[:,1])/len(cluster2_current_estimate[:,1])]\n",
    "    \n",
    "    #Stack current data estimates & calculate distances\n",
    "    all_points = np.row_stack((cluster1_current_estimate, cluster2_current_estimate))\n",
    "    distances = [(distance(centroid1, all_points[n]), distance(centroid2, all_points[n])) for n in range(len(all_points))]\n",
    "    \n",
    "    #Iterate over the distances and re-assign each point to cluster group 1 or 2\n",
    "    guess_cluster_1 = []\n",
    "    guess_cluster_2 = []\n",
    "\n",
    "    for each_distance in distances:\n",
    "        if (each_distance.index(min(each_distance))) == 0:\n",
    "            guess_cluster_1.append(all_points[distances.index(each_distance)])\n",
    "        else:\n",
    "            guess_cluster_2.append(all_points[distances.index(each_distance)])\n",
    "        \n",
    "    guess_cluster_1 = np.asarray(guess_cluster_1)\n",
    "    guess_cluster_2 = np.asarray(guess_cluster_2)\n",
    "    \n",
    "    plt.scatter(guess_cluster_1[:,0], guess_cluster_1[:,1])\n",
    "    plt.scatter(guess_cluster_2[:,0], guess_cluster_2[:,1])\n",
    "    plt.show()"
   ]
  },
  {
   "cell_type": "code",
   "execution_count": 549,
   "metadata": {},
   "outputs": [
    {
     "data": {
      "image/png": "[encoded data removed]",
      "text/plain": [
       "<matplotlib.figure.Figure at 0x18a51d0f5f8>"
      ]
     },
     "metadata": {},
     "output_type": "display_data"
    }
   ],
   "source": [
    "iterate(guess_cluster_1, guess_cluster_2)"
   ]
  },
  {
   "cell_type": "code",
   "execution_count": 550,
   "metadata": {},
   "outputs": [
    {
     "data": {
      "image/png": "[encoded data removed]",
      "text/plain": [
       "<matplotlib.figure.Figure at 0x18a514cd3c8>"
      ]
     },
     "metadata": {},
     "output_type": "display_data"
    }
   ],
   "source": [
    "iterate(guess_cluster_1, guess_cluster_2)"
   ]
  }
 ],
 "metadata": {
  "kernelspec": {
   "display_name": "Python 3",
   "language": "python",
   "name": "python3"
  },
  "language_info": {
   "codemirror_mode": {
    "name": "ipython",
    "version": 3
   },
   "file_extension": ".py",
   "mimetype": "text/x-python",
   "name": "python",
   "nbconvert_exporter": "python",
   "pygments_lexer": "ipython3",
   "version": "3.6.3"
  }
 },
 "nbformat": 4,
 "nbformat_minor": 2
}
