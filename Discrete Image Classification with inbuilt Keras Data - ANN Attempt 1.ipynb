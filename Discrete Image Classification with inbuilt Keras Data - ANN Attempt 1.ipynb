{
 "cells": [
  {
   "cell_type": "markdown",
   "metadata": {},
   "source": [
    "Import all the required modules"
   ]
  },
  {
   "cell_type": "code",
   "execution_count": 91,
   "metadata": {},
   "outputs": [],
   "source": [
    "#Deep Learning Modules\n",
    "import tensorflow as tf\n",
    "from tensorflow import keras\n",
    "\n",
    "#General Mathematics Modules\n",
    "import numpy as np\n",
    "import matplotlib.pyplot as plt"
   ]
  },
  {
   "cell_type": "markdown",
   "metadata": {},
   "source": [
    "Import the colour data from working directory.\n",
    "Oh bollocks they're all different sizes!\n",
    "I'll start using Keras' inbult colour data and then move on to using my own Kaggle download.\n",
    "__This took just under 7 minutes and God knows how much hard drive space! Do _not_ run it again!__"
   ]
  },
  {
   "cell_type": "code",
   "execution_count": 92,
   "metadata": {},
   "outputs": [],
   "source": [
    "##I can look into keras.datasets inbuilt datasets later!\n",
    "colour_data = keras.datasets.cifar10\n",
    "\n",
    "(train_images, train_labels), (test_images, test_labels) = colour_data.load_data() #this takes an age to load"
   ]
  },
  {
   "cell_type": "markdown",
   "metadata": {},
   "source": [
    "We explore the dimensions of the training set: it contains 50,000, 32x32 images that we shall look at later.\n",
    "\n",
    "We also explore the dimensions of the test set: it contains 10,000 32x32 images we shall use to check the 'correctness' of the ANN.\n",
    "\n",
    "The labels are numbers (0-9) which correspond to the following objects: 0 = airplane, 1 = automobile, 2 = bird, 3 = cat, 4 = deer, 5 = dog, 6 = frog, 7 = horse, 8 = ship, 9 = truck."
   ]
  },
  {
   "cell_type": "code",
   "execution_count": 93,
   "metadata": {},
   "outputs": [
    {
     "name": "stdout",
     "output_type": "stream",
     "text": [
      "(50000, 32, 32, 3)\n",
      "50000\n",
      "\n",
      "(10000, 32, 32, 3)\n",
      "10000\n"
     ]
    }
   ],
   "source": [
    "print(train_images.shape)\n",
    "print(len(train_labels))\n",
    "\n",
    "print(\"\")\n",
    "\n",
    "print(test_images.shape)\n",
    "print(len(test_labels))"
   ]
  },
  {
   "cell_type": "markdown",
   "metadata": {},
   "source": [
    "We observe that each of the 32 entries in the test_images dataset is a 3x32 matrix corresponding to the RGB pixel value of each pixel in each image."
   ]
  },
  {
   "cell_type": "code",
   "execution_count": 94,
   "metadata": {},
   "outputs": [
    {
     "data": {
      "text/plain": [
       "array([[[179, 118,  83],\n",
       "        [139,  96,  61],\n",
       "        [ 77,  49,  26],\n",
       "        ...,\n",
       "        [ 87,  53,  46],\n",
       "        [ 76,  47,  41],\n",
       "        [ 77,  47,  41]],\n",
       "\n",
       "       [[184, 130,  97],\n",
       "        [133,  88,  53],\n",
       "        [128,  89,  58],\n",
       "        ...,\n",
       "        [ 98,  61,  53],\n",
       "        [ 91,  58,  51],\n",
       "        [ 90,  57,  49]],\n",
       "\n",
       "       [[180, 132, 100],\n",
       "        [152, 104,  71],\n",
       "        [176, 129,  92],\n",
       "        ...,\n",
       "        [101,  62,  53],\n",
       "        [ 93,  56,  47],\n",
       "        [ 95,  57,  49]],\n",
       "\n",
       "       ...,\n",
       "\n",
       "       [[142,  73,  61],\n",
       "        [149,  84,  75],\n",
       "        [144,  81,  73],\n",
       "        ...,\n",
       "        [119,  68,  56],\n",
       "        [139,  87,  78],\n",
       "        [159, 100,  89]],\n",
       "\n",
       "       [[152,  83,  70],\n",
       "        [166,  96,  81],\n",
       "        [179, 106,  90],\n",
       "        ...,\n",
       "        [131,  77,  65],\n",
       "        [144,  87,  77],\n",
       "        [153,  90,  79]],\n",
       "\n",
       "       [[159,  92,  79],\n",
       "        [178, 107,  93],\n",
       "        [183, 113,  95],\n",
       "        ...,\n",
       "        [150,  90,  76],\n",
       "        [153,  91,  79],\n",
       "        [152,  87,  73]]], dtype=uint8)"
      ]
     },
     "execution_count": 94,
     "metadata": {},
     "output_type": "execute_result"
    }
   ],
   "source": [
    "test_images[5] #I bet this is an array of arrays of RGB values of the pixels making up the images. I also think each array is\n",
    "#across a row. So (1,1,1) = (179, 118, 83), ..., (1,1,32) =  (77, 47, 41)"
   ]
  },
  {
   "cell_type": "markdown",
   "metadata": {},
   "source": [
    "Let's begin looking at some of the images in the training dataset. We define a list of class names with their indices corresponding to that defined above, then we define a function which displays an image and it's correct label."
   ]
  },
  {
   "cell_type": "code",
   "execution_count": 95,
   "metadata": {},
   "outputs": [],
   "source": [
    "#Initialise class names\n",
    "class_names = ['airplane', 'automobile', 'bird', 'cat', 'deer', 'dog', 'frog', 'horse', 'ship', 'truck']\n",
    "\n",
    "def show_training_image(i):\n",
    "    plt.figure()\n",
    "    \n",
    "    plt.imshow(train_images[i]) #display image and label\n",
    "    plt.xlabel(\"Type: \" + class_names[train_labels[i][0]])\n",
    "    \n",
    "    plt.xticks([]) #remove axes\n",
    "    plt.yticks([])\n",
    "    \n",
    "    plt.grid(False) #disable gridlines\n",
    "    \n",
    "    plt.show()\n",
    "    \n",
    "    return None"
   ]
  },
  {
   "cell_type": "code",
   "execution_count": 96,
   "metadata": {},
   "outputs": [
    {
     "data": {
      "image/png": "[encoded data removed]",
      "text/plain": [
       "<Figure size 432x288 with 1 Axes>"
      ]
     },
     "metadata": {},
     "output_type": "display_data"
    }
   ],
   "source": [
    "show_training_image(0)"
   ]
  },
  {
   "cell_type": "code",
   "execution_count": 97,
   "metadata": {},
   "outputs": [
    {
     "data": {
      "image/png": "[encoded data removed]",
      "text/plain": [
       "<Figure size 432x288 with 1 Axes>"
      ]
     },
     "metadata": {},
     "output_type": "display_data"
    }
   ],
   "source": [
    "show_training_image(1)"
   ]
  },
  {
   "cell_type": "markdown",
   "metadata": {},
   "source": [
    "Now, because the tutorial I followed insists it, we scale down the RGB pixel values. (But why?)"
   ]
  },
  {
   "cell_type": "code",
   "execution_count": 98,
   "metadata": {},
   "outputs": [],
   "source": [
    "train_images = train_images / 255.0\n",
    "test_images = test_images / 255.0"
   ]
  },
  {
   "cell_type": "markdown",
   "metadata": {},
   "source": [
    "Now we have confirmed for the first few images that the training set is correctly labelled. We are in a position to begin building our neural network.\n",
    "\n",
    "I'm copy-pasting code from a tutorial I don't understand at the moment simply because I lack the knowledge about ANNs."
   ]
  },
  {
   "cell_type": "code",
   "execution_count": 100,
   "metadata": {},
   "outputs": [],
   "source": [
    "model = keras.Sequential([\n",
    "    keras.layers.Flatten(input_shape=(32, 32, 3)),\n",
    "    keras.layers.Dense(128, activation='relu'),\n",
    "    keras.layers.Dense(10, activation='softmax')\n",
    "]) #This throws some 'phasing-out' exception."
   ]
  },
  {
   "cell_type": "code",
   "execution_count": 101,
   "metadata": {},
   "outputs": [],
   "source": [
    "model.compile(optimizer='adam',\n",
    "              loss='sparse_categorical_crossentropy',\n",
    "              metrics=['accuracy'])"
   ]
  },
  {
   "cell_type": "markdown",
   "metadata": {},
   "source": [
    "The above code establishes the model. We now fit the training data to it."
   ]
  },
  {
   "cell_type": "code",
   "execution_count": 103,
   "metadata": {},
   "outputs": [
    {
     "name": "stdout",
     "output_type": "stream",
     "text": [
      "Epoch 1/10\n",
      "50000/50000 [==============================] - 11s 216us/sample - loss: 1.5845 - acc: 0.4385\n",
      "Epoch 2/10\n",
      "50000/50000 [==============================] - 10s 197us/sample - loss: 1.5786 - acc: 0.4420\n",
      "Epoch 3/10\n",
      "50000/50000 [==============================] - 10s 203us/sample - loss: 1.5696 - acc: 0.4435\n",
      "Epoch 4/10\n",
      "50000/50000 [==============================] - 9s 174us/sample - loss: 1.5623 - acc: 0.4438\n",
      "Epoch 5/10\n",
      "50000/50000 [==============================] - 10s 193us/sample - loss: 1.5546 - acc: 0.4475\n",
      "Epoch 6/10\n",
      "50000/50000 [==============================] - 9s 171us/sample - loss: 1.5479 - acc: 0.4491\n",
      "Epoch 7/10\n",
      "50000/50000 [==============================] - 10s 198us/sample - loss: 1.5436 - acc: 0.4505\n",
      "Epoch 8/10\n",
      "50000/50000 [==============================] - 9s 189us/sample - loss: 1.5351 - acc: 0.4539\n",
      "Epoch 9/10\n",
      "50000/50000 [==============================] - 9s 172us/sample - loss: 1.5297 - acc: 0.4566\n",
      "Epoch 10/10\n",
      "50000/50000 [==============================] - 10s 194us/sample - loss: 1.5273 - acc: 0.4589\n"
     ]
    },
    {
     "data": {
      "text/plain": [
       "<tensorflow.python.keras.callbacks.History at 0x15fe337fd68>"
      ]
     },
     "execution_count": 103,
     "metadata": {},
     "output_type": "execute_result"
    }
   ],
   "source": [
    "model.fit(train_images, train_labels, epochs=10)"
   ]
  },
  {
   "cell_type": "markdown",
   "metadata": {},
   "source": [
    "Regardless of whether I use 10 or 20 epochs, this achieves a -rather crap- accuracy of 45% on the test data. Minor overfitting has occured.\n",
    "\n",
    "__How could I possibly improve on this accuracy?__"
   ]
  },
  {
   "cell_type": "code",
   "execution_count": 104,
   "metadata": {},
   "outputs": [
    {
     "name": "stdout",
     "output_type": "stream",
     "text": [
      "10000/10000 - 1s - loss: 1.5801 - acc: 0.4387\n",
      "\n",
      "Test accuracy: 0.4387\n"
     ]
    }
   ],
   "source": [
    "test_loss, test_acc = model.evaluate(test_images,  test_labels, verbose=2)\n",
    "\n",
    "print('\\nTest accuracy:', test_acc)"
   ]
  },
  {
   "cell_type": "markdown",
   "metadata": {},
   "source": [
    "We should now be able to make predicitions on the the test data:"
   ]
  },
  {
   "cell_type": "code",
   "execution_count": 105,
   "metadata": {},
   "outputs": [],
   "source": [
    "predictions = model.predict(test_images)"
   ]
  },
  {
   "cell_type": "markdown",
   "metadata": {},
   "source": [
    "We define a function to compare the test data labels to their images."
   ]
  },
  {
   "cell_type": "code",
   "execution_count": 110,
   "metadata": {},
   "outputs": [],
   "source": [
    "def check_prediction(i):\n",
    "    plt.figure()\n",
    "    plt.imshow(test_images[i])\n",
    "    plt.xlabel(\"True: \" + class_names[test_labels[i][0]] + \"\\n Predicted: \"\n",
    "               + class_names[np.argmax(predictions[i])] + \"\\n Accurate: \"\n",
    "               + str(class_names[np.argmax(predictions[i])] == class_names[test_labels[i][0]])) #This isn't working!\n",
    "    plt.grid(False)\n",
    "    plt.show()\n",
    "    return None"
   ]
  },
  {
   "cell_type": "markdown",
   "metadata": {},
   "source": [
    "Please keep in mind the ones it gets right and wrong changes for each- or does it?!? That wouldn't make sense!"
   ]
  },
  {
   "cell_type": "code",
   "execution_count": 111,
   "metadata": {},
   "outputs": [
    {
     "data": {
      "image/png": "[encoded data removed]",
      "text/plain": [
       "<Figure size 432x288 with 1 Axes>"
      ]
     },
     "metadata": {
      "needs_background": "light"
     },
     "output_type": "display_data"
    }
   ],
   "source": [
    "check_prediction (9) #An example of one it gets right!"
   ]
  },
  {
   "cell_type": "code",
   "execution_count": 112,
   "metadata": {},
   "outputs": [
    {
     "data": {
      "image/png": "[encoded data removed]",
      "text/plain": [
       "<Figure size 432x288 with 1 Axes>"
      ]
     },
     "metadata": {
      "needs_background": "light"
     },
     "output_type": "display_data"
    }
   ],
   "source": [
    "check_prediction(14) #An example of one it gets spectacuarly wrong!"
   ]
  },
  {
   "cell_type": "code",
   "execution_count": 113,
   "metadata": {},
   "outputs": [
    {
     "data": {
      "image/png": "[encoded data removed]",
      "text/plain": [
       "<Figure size 432x288 with 1 Axes>"
      ]
     },
     "metadata": {
      "needs_background": "light"
     },
     "output_type": "display_data"
    }
   ],
   "source": [
    "check_prediction(6) #You know, strangely enough, I can see why it might think this one! The colours and the 'tail' indicate cat."
   ]
  }
 ],
 "metadata": {
  "kernelspec": {
   "display_name": "Python 3",
   "language": "python",
   "name": "python3"
  },
  "language_info": {
   "codemirror_mode": {
    "name": "ipython",
    "version": 3
   },
   "file_extension": ".py",
   "mimetype": "text/x-python",
   "name": "python",
   "nbconvert_exporter": "python",
   "pygments_lexer": "ipython3",
   "version": "3.6.9"
  }
 },
 "nbformat": 4,
 "nbformat_minor": 2
}
