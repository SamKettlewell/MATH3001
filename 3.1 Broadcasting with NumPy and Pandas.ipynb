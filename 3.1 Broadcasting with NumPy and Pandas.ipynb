{
 "cells": [
  {
   "cell_type": "markdown",
   "metadata": {},
   "source": [
    "# 3.1 - Data Handling & Processing: NumPy and Pandas"
   ]
  },
  {
   "cell_type": "code",
   "execution_count": 1,
   "metadata": {
    "collapsed": true
   },
   "outputs": [],
   "source": [
    "import numpy as np\n",
    "import pandas as pd"
   ]
  },
  {
   "cell_type": "markdown",
   "metadata": {},
   "source": [
    "## 3.1.1 - NumPy"
   ]
  },
  {
   "cell_type": "markdown",
   "metadata": {},
   "source": [
    "## Componentwise scalar multiplication with NumPy"
   ]
  },
  {
   "cell_type": "markdown",
   "metadata": {},
   "source": [
    "NumPy [2] is one of the most popular and useful scientific packages for the Python language. Most notably, it adds a wide range of linear algebra tools and 'a powerful N-dimensional array object' (NumPy Developers, 20xx)[2] which allows for the easy creation of tensors in Python.\n",
    "\n",
    "NumPy generated tensors, ndarrays, are designed to be extremely easy and intuitive to manipulate. Unlike standard Python arrays, addition and scalar multiplication is performed componentwise on NumPy arrays so that they exhibit the same properties of tensors found in mathematics. The snippet of code below shows multiplication by a constant of (a) a standard Python array and (b) a NumPy array. Notice the standard Python array simply duplicates the elements but the NumPy array performs componentwise multiplication as we would expect from a vector in mathematics."
   ]
  },
  {
   "cell_type": "code",
   "execution_count": 2,
   "metadata": {},
   "outputs": [
    {
     "name": "stdout",
     "output_type": "stream",
     "text": [
      "NumPy  [2 4 6]\n",
      "Standard  [1, 2, 3, 1, 2, 3]\n"
     ]
    }
   ],
   "source": [
    "c = 2\n",
    "\n",
    "x_standard = [1, 2, 3]\n",
    "x_numpy = np.array([1,2,3])\n",
    "\n",
    "print(\"NumPy \", c*x_numpy)\n",
    "print(\"Standard \", c*x_standard)"
   ]
  },
  {
   "cell_type": "markdown",
   "metadata": {},
   "source": [
    "## Broadcasting with NumPy"
   ]
  },
  {
   "cell_type": "markdown",
   "metadata": {},
   "source": [
    "In addition to this behaviour, NumPy implements a technique called broadcasting. Broadcasting refers to NumPy's ability to make sense of arithmetic involving two or more differently shaped tensors by means of cleverly duplicating the smaller array. [5]\n",
    "\n",
    "__Example:__ Suppose we wish to compute $(1, 2, 3)+2$. Despite the fact there is no ambiguity in how we should interpret this sum, it cannot be computed in mathematics because a vector quantity and a scalar quantity are not compatible under addition. NumPy however, will produce the expected result: $(1, 2, 3) + 2 = (3, 4, 5)$. It achieves this by broadcasting the smaller, zero-dimensional tensor, $(2)$, over the one-dimensional tensor $(1; 2; 3)$. That is, interpreting $2$ as $(2, 2, 2)$ before performing componentwise addition. The snippet of code below shows the Python implementation of this example. NumPy achieves the correct result by broadcasting whereas Python returns a ```TypeError```, meaning it cannot make sense of an addition between\n",
    "an array and an integer."
   ]
  },
  {
   "cell_type": "code",
   "execution_count": 3,
   "metadata": {},
   "outputs": [
    {
     "name": "stdout",
     "output_type": "stream",
     "text": [
      "NumPy  [3 4 5]\n"
     ]
    },
    {
     "ename": "TypeError",
     "evalue": "unsupported operand type(s) for +: 'int' and 'list'",
     "output_type": "error",
     "traceback": [
      "\u001b[1;31m---------------------------------------------------------------------------\u001b[0m",
      "\u001b[1;31mTypeError\u001b[0m                                 Traceback (most recent call last)",
      "\u001b[1;32m<ipython-input-3-7d9a0f4f4337>\u001b[0m in \u001b[0;36m<module>\u001b[1;34m()\u001b[0m\n\u001b[0;32m      5\u001b[0m \u001b[1;33m\u001b[0m\u001b[0m\n\u001b[0;32m      6\u001b[0m \u001b[0mprint\u001b[0m\u001b[1;33m(\u001b[0m\u001b[1;34m\"NumPy \"\u001b[0m\u001b[1;33m,\u001b[0m \u001b[0mc\u001b[0m\u001b[1;33m+\u001b[0m\u001b[0mx_numpy\u001b[0m\u001b[1;33m)\u001b[0m\u001b[1;33m\u001b[0m\u001b[0m\n\u001b[1;32m----> 7\u001b[1;33m \u001b[0mprint\u001b[0m\u001b[1;33m(\u001b[0m\u001b[1;34m\"Standard \"\u001b[0m\u001b[1;33m,\u001b[0m \u001b[0mc\u001b[0m\u001b[1;33m+\u001b[0m\u001b[0mx_standard\u001b[0m\u001b[1;33m)\u001b[0m\u001b[1;33m\u001b[0m\u001b[0m\n\u001b[0m",
      "\u001b[1;31mTypeError\u001b[0m: unsupported operand type(s) for +: 'int' and 'list'"
     ]
    }
   ],
   "source": [
    "c = 2\n",
    "\n",
    "x_standard = [1, 2, 3]\n",
    "x_numpy = np.array([1,2,3])\n",
    "\n",
    "print(\"NumPy \", c+x_numpy)\n",
    "print(\"Standard \", c+x_standard)"
   ]
  },
  {
   "cell_type": "markdown",
   "metadata": {},
   "source": [
    "Broadcasting is only possible if the tensors under consideration are compatible. Two tensors are compatible if (a) their dimensions coincide exactly or (b) if their dimensions coincide in all but finitely many places where the dimension of the tensor is $1$ [5]. For example, in case (a), NumPy allows us to add two $5 \\times 5$ matrices together as both of them have exactly the same dimensions, but NumPy will not permit the addition of a $5 \\times 5$ matrix to a, say, $3 \\times 4$ matrix."
   ]
  },
  {
   "cell_type": "code",
   "execution_count": 4,
   "metadata": {},
   "outputs": [
    {
     "name": "stdout",
     "output_type": "stream",
     "text": [
      "[[ 1.  1.  1.  1.  1.]\n",
      " [ 1.  1.  1.  1.  1.]\n",
      " [ 1.  1.  1.  1.  1.]\n",
      " [ 1.  1.  1.  1.  1.]\n",
      " [ 1.  1.  1.  1.  1.]]\n"
     ]
    },
    {
     "ename": "ValueError",
     "evalue": "operands could not be broadcast together with shapes (5,5) (3,4) ",
     "output_type": "error",
     "traceback": [
      "\u001b[1;31m---------------------------------------------------------------------------\u001b[0m",
      "\u001b[1;31mValueError\u001b[0m                                Traceback (most recent call last)",
      "\u001b[1;32m<ipython-input-4-d1840cd7c608>\u001b[0m in \u001b[0;36m<module>\u001b[1;34m()\u001b[0m\n\u001b[0;32m      4\u001b[0m \u001b[1;33m\u001b[0m\u001b[0m\n\u001b[0;32m      5\u001b[0m \u001b[0mprint\u001b[0m\u001b[1;33m(\u001b[0m\u001b[0mx\u001b[0m\u001b[1;33m+\u001b[0m\u001b[0my\u001b[0m\u001b[1;33m)\u001b[0m\u001b[1;33m\u001b[0m\u001b[0m\n\u001b[1;32m----> 6\u001b[1;33m \u001b[0mprint\u001b[0m\u001b[1;33m(\u001b[0m\u001b[0mx\u001b[0m\u001b[1;33m+\u001b[0m\u001b[0mz\u001b[0m\u001b[1;33m)\u001b[0m\u001b[1;33m\u001b[0m\u001b[0m\n\u001b[0m",
      "\u001b[1;31mValueError\u001b[0m: operands could not be broadcast together with shapes (5,5) (3,4) "
     ]
    }
   ],
   "source": [
    "x = np.zeros((5, 5))\n",
    "y = np.ones((5, 5))\n",
    "z = np.ones((3, 4))\n",
    "\n",
    "print(x+y)\n",
    "print(x+z)"
   ]
  },
  {
   "cell_type": "markdown",
   "metadata": {},
   "source": [
    "Furthermore, in case (b) NumPy will permit the addition of, say, a $5 \\times 5$ matrix and a $1 \\times 5$ matrix by adding the smaller matrix to each row of the larger one. This is because the dimensions of the arrays agree except for in one place where the dimension of the smaller array is $1$. By a similar argument, NumPy would permit the addition of a $5 \\times 5$ matrix and a scalar by performing addition componentwise. In this case, the array dimensions differ in two places, but the dimension of the scalar quantity is $(1,1)$ so broadcasting is feasible in this case."
   ]
  },
  {
   "cell_type": "code",
   "execution_count": 5,
   "metadata": {},
   "outputs": [
    {
     "name": "stdout",
     "output_type": "stream",
     "text": [
      "[[ 1.  1.  1.  1.  1.]\n",
      " [ 1.  1.  1.  1.  1.]\n",
      " [ 1.  1.  1.  1.  1.]\n",
      " [ 1.  1.  1.  1.  1.]\n",
      " [ 1.  1.  1.  1.  1.]]\n",
      "\n",
      "[[ 4.  4.  4.  4.  4.]\n",
      " [ 4.  4.  4.  4.  4.]\n",
      " [ 4.  4.  4.  4.  4.]\n",
      " [ 4.  4.  4.  4.  4.]\n",
      " [ 4.  4.  4.  4.  4.]]\n"
     ]
    }
   ],
   "source": [
    "x = np.zeros((5, 5))\n",
    "y = np.ones((1, 5))\n",
    "z = 4\n",
    "\n",
    "print(x+y)\n",
    "print(\"\") #line space\n",
    "print(x+z)"
   ]
  },
  {
   "cell_type": "markdown",
   "metadata": {},
   "source": [
    "NumPy's broadcasting technique ensures that, given a sequence of unambiguous operations performed on its arrays, it will attempt to perform calculations conforming to our mathematical intuition."
   ]
  },
  {
   "cell_type": "markdown",
   "metadata": {},
   "source": [
    "## 3.1.2 - Pandas"
   ]
  },
  {
   "cell_type": "markdown",
   "metadata": {},
   "source": [
    "Pandas [3] is another popular scientific library written for Python. It is primarily used for data analysis and manipulation [6] and, most notably, it introduces a flexible DataFrame object: a two-dimensional spreadsheet-like data structure for storing and meaningfully organising data in Python [6]. It also introduces various IO tools for reading and writing data from files [7]. These IO tools are compatible with a multitude of file types [7] including, but not limited to csv files, html files and json files. For example, the code snippet below demonstrates the ability of pandas to read and import data from locally stored csv files. We can also see the layout of the data using the DataFrame object. From this DataFrame we could access and extract specific columns, rows or cells and we will see examples of this later."
   ]
  },
  {
   "cell_type": "code",
   "execution_count": 7,
   "metadata": {
    "collapsed": true
   },
   "outputs": [],
   "source": [
    "data = pd.read_csv(\"C://Users//Sam Kettlewell//Google Drive//University Work//Third Year//MATH3001//Chapters//Chapter 3//testdata.csv\")"
   ]
  },
  {
   "cell_type": "code",
   "execution_count": 8,
   "metadata": {},
   "outputs": [
    {
     "data": {
      "text/html": [
       "<div>\n",
       "<style>\n",
       "    .dataframe thead tr:only-child th {\n",
       "        text-align: right;\n",
       "    }\n",
       "\n",
       "    .dataframe thead th {\n",
       "        text-align: left;\n",
       "    }\n",
       "\n",
       "    .dataframe tbody tr th {\n",
       "        vertical-align: top;\n",
       "    }\n",
       "</style>\n",
       "<table border=\"1\" class=\"dataframe\">\n",
       "  <thead>\n",
       "    <tr style=\"text-align: right;\">\n",
       "      <th></th>\n",
       "      <th>positive integers</th>\n",
       "      <th>prime numbers</th>\n",
       "      <th>UK cities beginning with a B</th>\n",
       "    </tr>\n",
       "  </thead>\n",
       "  <tbody>\n",
       "    <tr>\n",
       "      <th>0</th>\n",
       "      <td>1</td>\n",
       "      <td>2</td>\n",
       "      <td>Birmingham</td>\n",
       "    </tr>\n",
       "    <tr>\n",
       "      <th>1</th>\n",
       "      <td>2</td>\n",
       "      <td>3</td>\n",
       "      <td>Bristol</td>\n",
       "    </tr>\n",
       "    <tr>\n",
       "      <th>2</th>\n",
       "      <td>3</td>\n",
       "      <td>5</td>\n",
       "      <td>Belfast</td>\n",
       "    </tr>\n",
       "    <tr>\n",
       "      <th>3</th>\n",
       "      <td>4</td>\n",
       "      <td>7</td>\n",
       "      <td>Brighton</td>\n",
       "    </tr>\n",
       "    <tr>\n",
       "      <th>4</th>\n",
       "      <td>5</td>\n",
       "      <td>11</td>\n",
       "      <td>Bangor</td>\n",
       "    </tr>\n",
       "  </tbody>\n",
       "</table>\n",
       "</div>"
      ],
      "text/plain": [
       "   positive integers  prime numbers UK cities beginning with a B\n",
       "0                  1              2                   Birmingham\n",
       "1                  2              3                      Bristol\n",
       "2                  3              5                      Belfast\n",
       "3                  4              7                     Brighton\n",
       "4                  5             11                       Bangor"
      ]
     },
     "execution_count": 8,
     "metadata": {},
     "output_type": "execute_result"
    }
   ],
   "source": [
    "data"
   ]
  }
 ],
 "metadata": {
  "kernelspec": {
   "display_name": "Python 3",
   "language": "python",
   "name": "python3"
  },
  "language_info": {
   "codemirror_mode": {
    "name": "ipython",
    "version": 3
   },
   "file_extension": ".py",
   "mimetype": "text/x-python",
   "name": "python",
   "nbconvert_exporter": "python",
   "pygments_lexer": "ipython3",
   "version": "3.6.3"
  }
 },
 "nbformat": 4,
 "nbformat_minor": 2
}
